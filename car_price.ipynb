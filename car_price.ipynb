{
 "cells": [
  {
   "cell_type": "markdown",
   "id": "f1d7e4d8-0bac-43a6-9c0e-ecd2dc0a39b1",
   "metadata": {},
   "source": [
    "### Import Library"
   ]
  },
  {
   "cell_type": "code",
   "execution_count": 4,
   "id": "66a79802-711b-4f2c-b00d-eb578a2951d5",
   "metadata": {},
   "outputs": [
    {
     "name": "stdout",
     "output_type": "stream",
     "text": [
      "Skipping, found downloaded files in \"./car-prices-poland\" (use force=True to force download)\n"
     ]
    }
   ],
   "source": [
    "import opendatasets as od\n",
    "import pandas as pd\n",
    "from matplotlib import pyplot as plt\n",
    "import seaborn as sns\n",
    "import numpy as np\n",
    "\n",
    "od.download('https://www.kaggle.com/datasets/aleksandrglotov/car-prices-poland')\n",
    "df = pd.read_csv('car-prices-poland/Car_Prices_Poland_Kaggle.csv')"
   ]
  },
  {
   "cell_type": "code",
   "execution_count": 5,
   "id": "7c54428e-9ffa-48af-83ec-f0e9dfa8b160",
   "metadata": {},
   "outputs": [
    {
     "data": {
      "text/plain": [
       "(117927, 11)"
      ]
     },
     "execution_count": 5,
     "metadata": {},
     "output_type": "execute_result"
    }
   ],
   "source": [
    "df.shape"
   ]
  },
  {
   "cell_type": "code",
   "execution_count": 6,
   "id": "8006c330-c8d0-4764-8d64-330dc53351ca",
   "metadata": {},
   "outputs": [
    {
     "data": {
      "text/html": [
       "<div>\n",
       "<style scoped>\n",
       "    .dataframe tbody tr th:only-of-type {\n",
       "        vertical-align: middle;\n",
       "    }\n",
       "\n",
       "    .dataframe tbody tr th {\n",
       "        vertical-align: top;\n",
       "    }\n",
       "\n",
       "    .dataframe thead th {\n",
       "        text-align: right;\n",
       "    }\n",
       "</style>\n",
       "<table border=\"1\" class=\"dataframe\">\n",
       "  <thead>\n",
       "    <tr style=\"text-align: right;\">\n",
       "      <th></th>\n",
       "      <th>Unnamed: 0</th>\n",
       "      <th>mark</th>\n",
       "      <th>model</th>\n",
       "      <th>generation_name</th>\n",
       "      <th>year</th>\n",
       "      <th>mileage</th>\n",
       "      <th>vol_engine</th>\n",
       "      <th>fuel</th>\n",
       "      <th>city</th>\n",
       "      <th>province</th>\n",
       "      <th>price</th>\n",
       "    </tr>\n",
       "  </thead>\n",
       "  <tbody>\n",
       "    <tr>\n",
       "      <th>0</th>\n",
       "      <td>0</td>\n",
       "      <td>opel</td>\n",
       "      <td>combo</td>\n",
       "      <td>gen-d-2011</td>\n",
       "      <td>2015</td>\n",
       "      <td>139568</td>\n",
       "      <td>1248</td>\n",
       "      <td>Diesel</td>\n",
       "      <td>Janki</td>\n",
       "      <td>Mazowieckie</td>\n",
       "      <td>35900</td>\n",
       "    </tr>\n",
       "    <tr>\n",
       "      <th>1</th>\n",
       "      <td>1</td>\n",
       "      <td>opel</td>\n",
       "      <td>combo</td>\n",
       "      <td>gen-d-2011</td>\n",
       "      <td>2018</td>\n",
       "      <td>31991</td>\n",
       "      <td>1499</td>\n",
       "      <td>Diesel</td>\n",
       "      <td>Katowice</td>\n",
       "      <td>Śląskie</td>\n",
       "      <td>78501</td>\n",
       "    </tr>\n",
       "    <tr>\n",
       "      <th>2</th>\n",
       "      <td>2</td>\n",
       "      <td>opel</td>\n",
       "      <td>combo</td>\n",
       "      <td>gen-d-2011</td>\n",
       "      <td>2015</td>\n",
       "      <td>278437</td>\n",
       "      <td>1598</td>\n",
       "      <td>Diesel</td>\n",
       "      <td>Brzeg</td>\n",
       "      <td>Opolskie</td>\n",
       "      <td>27000</td>\n",
       "    </tr>\n",
       "    <tr>\n",
       "      <th>3</th>\n",
       "      <td>3</td>\n",
       "      <td>opel</td>\n",
       "      <td>combo</td>\n",
       "      <td>gen-d-2011</td>\n",
       "      <td>2016</td>\n",
       "      <td>47600</td>\n",
       "      <td>1248</td>\n",
       "      <td>Diesel</td>\n",
       "      <td>Korfantów</td>\n",
       "      <td>Opolskie</td>\n",
       "      <td>30800</td>\n",
       "    </tr>\n",
       "    <tr>\n",
       "      <th>4</th>\n",
       "      <td>4</td>\n",
       "      <td>opel</td>\n",
       "      <td>combo</td>\n",
       "      <td>gen-d-2011</td>\n",
       "      <td>2014</td>\n",
       "      <td>103000</td>\n",
       "      <td>1400</td>\n",
       "      <td>CNG</td>\n",
       "      <td>Tarnowskie Góry</td>\n",
       "      <td>Śląskie</td>\n",
       "      <td>35900</td>\n",
       "    </tr>\n",
       "    <tr>\n",
       "      <th>5</th>\n",
       "      <td>5</td>\n",
       "      <td>opel</td>\n",
       "      <td>combo</td>\n",
       "      <td>gen-d-2011</td>\n",
       "      <td>2017</td>\n",
       "      <td>121203</td>\n",
       "      <td>1598</td>\n",
       "      <td>Diesel</td>\n",
       "      <td>Warszawa</td>\n",
       "      <td>Mazowieckie</td>\n",
       "      <td>51900</td>\n",
       "    </tr>\n",
       "    <tr>\n",
       "      <th>6</th>\n",
       "      <td>6</td>\n",
       "      <td>opel</td>\n",
       "      <td>combo</td>\n",
       "      <td>gen-d-2011</td>\n",
       "      <td>2017</td>\n",
       "      <td>119965</td>\n",
       "      <td>1248</td>\n",
       "      <td>Diesel</td>\n",
       "      <td>Wrocław</td>\n",
       "      <td>Dolnośląskie</td>\n",
       "      <td>44700</td>\n",
       "    </tr>\n",
       "  </tbody>\n",
       "</table>\n",
       "</div>"
      ],
      "text/plain": [
       "   Unnamed: 0  mark  model generation_name  year  mileage  vol_engine    fuel  \\\n",
       "0           0  opel  combo      gen-d-2011  2015   139568        1248  Diesel   \n",
       "1           1  opel  combo      gen-d-2011  2018    31991        1499  Diesel   \n",
       "2           2  opel  combo      gen-d-2011  2015   278437        1598  Diesel   \n",
       "3           3  opel  combo      gen-d-2011  2016    47600        1248  Diesel   \n",
       "4           4  opel  combo      gen-d-2011  2014   103000        1400     CNG   \n",
       "5           5  opel  combo      gen-d-2011  2017   121203        1598  Diesel   \n",
       "6           6  opel  combo      gen-d-2011  2017   119965        1248  Diesel   \n",
       "\n",
       "              city      province  price  \n",
       "0            Janki   Mazowieckie  35900  \n",
       "1         Katowice       Śląskie  78501  \n",
       "2            Brzeg      Opolskie  27000  \n",
       "3        Korfantów      Opolskie  30800  \n",
       "4  Tarnowskie Góry       Śląskie  35900  \n",
       "5         Warszawa   Mazowieckie  51900  \n",
       "6          Wrocław  Dolnośląskie  44700  "
      ]
     },
     "execution_count": 6,
     "metadata": {},
     "output_type": "execute_result"
    }
   ],
   "source": [
    "df.head(7)"
   ]
  },
  {
   "cell_type": "markdown",
   "id": "fbfe0fb2-fda8-43a7-b9b7-855f245272b9",
   "metadata": {},
   "source": [
    "#### Drop columns"
   ]
  },
  {
   "cell_type": "code",
   "execution_count": 7,
   "id": "a3238a68-3931-459d-8f1a-fb3c72ac5dbc",
   "metadata": {},
   "outputs": [],
   "source": [
    "# deleting unnecessary columns\n",
    "df.drop(columns= ['Unnamed: 0','generation_name'],inplace = True)"
   ]
  },
  {
   "cell_type": "code",
   "execution_count": 8,
   "id": "d666f3fe-df29-4e19-874d-bddd25d65936",
   "metadata": {},
   "outputs": [
    {
     "data": {
      "text/plain": [
       "mark          0\n",
       "model         0\n",
       "year          0\n",
       "mileage       0\n",
       "vol_engine    0\n",
       "fuel          0\n",
       "city          0\n",
       "province      0\n",
       "price         0\n",
       "dtype: int64"
      ]
     },
     "execution_count": 8,
     "metadata": {},
     "output_type": "execute_result"
    }
   ],
   "source": [
    "# missing value control\n",
    "df.isnull().sum()"
   ]
  },
  {
   "cell_type": "code",
   "execution_count": 10,
   "id": "61ce0803-20ee-4984-b470-9577b77c4512",
   "metadata": {},
   "outputs": [
    {
     "data": {
      "text/plain": [
       "6761"
      ]
     },
     "execution_count": 10,
     "metadata": {},
     "output_type": "execute_result"
    }
   ],
   "source": [
    "# duplicated value control\n",
    "df.duplicated().sum() "
   ]
  },
  {
   "cell_type": "code",
   "execution_count": 11,
   "id": "690cbc89-6aee-4cdd-ae59-d07d1e817874",
   "metadata": {},
   "outputs": [],
   "source": [
    "# delete drop duplicate values\n",
    "df.drop_duplicates(inplace=True) "
   ]
  },
  {
   "cell_type": "code",
   "execution_count": 12,
   "id": "f7acbfc6-e944-4edf-a77c-0c68742157e4",
   "metadata": {},
   "outputs": [
    {
     "data": {
      "text/plain": [
       "(111166, 9)"
      ]
     },
     "execution_count": 12,
     "metadata": {},
     "output_type": "execute_result"
    }
   ],
   "source": [
    "df.shape "
   ]
  },
  {
   "cell_type": "code",
   "execution_count": 101,
   "id": "2e4ba265-3e28-441f-89ac-24d97c2538ba",
   "metadata": {},
   "outputs": [
    {
     "data": {
      "text/plain": [
       "mark\n",
       "audi             10873\n",
       "bmw              10729\n",
       "volkswagen       10468\n",
       "opel             10014\n",
       "ford              9375\n",
       "renault           6789\n",
       "mercedes-benz     6782\n",
       "skoda             5722\n",
       "peugeot           4981\n",
       "toyota            4976\n",
       "hyundai           3912\n",
       "kia               3558\n",
       "volvo             3340\n",
       "nissan            3051\n",
       "mazda             2808\n",
       "seat              2797\n",
       "fiat              2773\n",
       "citroen           2712\n",
       "honda             2062\n",
       "mini              1076\n",
       "mitsubishi        1076\n",
       "alfa-romeo         686\n",
       "chevrolet          606\n",
       "Name: count, dtype: int64"
      ]
     },
     "execution_count": 101,
     "metadata": {},
     "output_type": "execute_result"
    }
   ],
   "source": [
    "# mark column unique values\n",
    "df['mark'].value_counts()"
   ]
  },
  {
   "cell_type": "code",
   "execution_count": 14,
   "id": "89d3161a-9050-4dcb-b540-d50bc2e7312a",
   "metadata": {},
   "outputs": [
    {
     "data": {
      "text/plain": [
       "mark\n",
       "citroen           33999.633850\n",
       "opel              36367.216597\n",
       "fiat              38196.479986\n",
       "seat              39505.400787\n",
       "chevrolet         40359.453795\n",
       "renault           44726.374577\n",
       "peugeot           46305.361976\n",
       "honda             47623.768671\n",
       "mitsubishi        48950.999071\n",
       "nissan            49266.230416\n",
       "ford              50741.506560\n",
       "hyundai           53521.120143\n",
       "toyota            53973.644494\n",
       "mazda             56388.569801\n",
       "kia               58181.175942\n",
       "skoda             61279.840091\n",
       "volkswagen        61870.866546\n",
       "alfa-romeo        65794.752187\n",
       "mini              71536.833643\n",
       "volvo             92472.250599\n",
       "audi             105392.749011\n",
       "bmw              121183.286793\n",
       "mercedes-benz    135598.585963\n",
       "Name: price, dtype: float64"
      ]
     },
     "execution_count": 14,
     "metadata": {},
     "output_type": "execute_result"
    }
   ],
   "source": [
    "# mean price by mark from low to high\n",
    "df.groupby('mark')['price'].mean().sort_values(ascending=True)"
   ]
  },
  {
   "cell_type": "code",
   "execution_count": 103,
   "id": "d1ec8324-0345-42c6-8d36-b4802087e905",
   "metadata": {},
   "outputs": [
    {
     "data": {
      "text/html": [
       "<div>\n",
       "<style scoped>\n",
       "    .dataframe tbody tr th:only-of-type {\n",
       "        vertical-align: middle;\n",
       "    }\n",
       "\n",
       "    .dataframe tbody tr th {\n",
       "        vertical-align: top;\n",
       "    }\n",
       "\n",
       "    .dataframe thead th {\n",
       "        text-align: right;\n",
       "    }\n",
       "</style>\n",
       "<table border=\"1\" class=\"dataframe\">\n",
       "  <thead>\n",
       "    <tr style=\"text-align: right;\">\n",
       "      <th></th>\n",
       "      <th>mark</th>\n",
       "      <th>model</th>\n",
       "      <th>year</th>\n",
       "      <th>mileage</th>\n",
       "      <th>vol_engine</th>\n",
       "      <th>fuel</th>\n",
       "      <th>city</th>\n",
       "      <th>province</th>\n",
       "      <th>price</th>\n",
       "    </tr>\n",
       "  </thead>\n",
       "  <tbody>\n",
       "    <tr>\n",
       "      <th>61836</th>\n",
       "      <td>mercedes-benz</td>\n",
       "      <td>s-klasa</td>\n",
       "      <td>2017</td>\n",
       "      <td>400</td>\n",
       "      <td>5980</td>\n",
       "      <td>Gasoline</td>\n",
       "      <td>Janki</td>\n",
       "      <td>Mazowieckie</td>\n",
       "      <td>2399900</td>\n",
       "    </tr>\n",
       "    <tr>\n",
       "      <th>61646</th>\n",
       "      <td>mercedes-benz</td>\n",
       "      <td>s-klasa</td>\n",
       "      <td>2019</td>\n",
       "      <td>12000</td>\n",
       "      <td>6233</td>\n",
       "      <td>Gasoline</td>\n",
       "      <td>Poznań</td>\n",
       "      <td>Wielkopolskie</td>\n",
       "      <td>1966770</td>\n",
       "    </tr>\n",
       "    <tr>\n",
       "      <th>61810</th>\n",
       "      <td>mercedes-benz</td>\n",
       "      <td>s-klasa</td>\n",
       "      <td>2018</td>\n",
       "      <td>21</td>\n",
       "      <td>5980</td>\n",
       "      <td>Gasoline</td>\n",
       "      <td>Warszawa</td>\n",
       "      <td>Mazowieckie</td>\n",
       "      <td>1550000</td>\n",
       "    </tr>\n",
       "    <tr>\n",
       "      <th>55530</th>\n",
       "      <td>mercedes-benz</td>\n",
       "      <td>amg-gt</td>\n",
       "      <td>2019</td>\n",
       "      <td>28500</td>\n",
       "      <td>3982</td>\n",
       "      <td>Gasoline</td>\n",
       "      <td>Poznań</td>\n",
       "      <td>Wielkopolskie</td>\n",
       "      <td>1368341</td>\n",
       "    </tr>\n",
       "    <tr>\n",
       "      <th>55562</th>\n",
       "      <td>mercedes-benz</td>\n",
       "      <td>amg-gt</td>\n",
       "      <td>2020</td>\n",
       "      <td>16000</td>\n",
       "      <td>3982</td>\n",
       "      <td>Gasoline</td>\n",
       "      <td>Pruszcz Gdański</td>\n",
       "      <td>Pomorskie</td>\n",
       "      <td>1100000</td>\n",
       "    </tr>\n",
       "    <tr>\n",
       "      <th>...</th>\n",
       "      <td>...</td>\n",
       "      <td>...</td>\n",
       "      <td>...</td>\n",
       "      <td>...</td>\n",
       "      <td>...</td>\n",
       "      <td>...</td>\n",
       "      <td>...</td>\n",
       "      <td>...</td>\n",
       "      <td>...</td>\n",
       "    </tr>\n",
       "    <tr>\n",
       "      <th>39776</th>\n",
       "      <td>volkswagen</td>\n",
       "      <td>passat</td>\n",
       "      <td>1998</td>\n",
       "      <td>220000</td>\n",
       "      <td>1781</td>\n",
       "      <td>Gasoline</td>\n",
       "      <td>Pniewy</td>\n",
       "      <td>Wielkopolskie</td>\n",
       "      <td>1250</td>\n",
       "    </tr>\n",
       "    <tr>\n",
       "      <th>36305</th>\n",
       "      <td>volkswagen</td>\n",
       "      <td>golf</td>\n",
       "      <td>1999</td>\n",
       "      <td>190321</td>\n",
       "      <td>1390</td>\n",
       "      <td>Gasoline</td>\n",
       "      <td>Tarnowskie Góry</td>\n",
       "      <td>Śląskie</td>\n",
       "      <td>1000</td>\n",
       "    </tr>\n",
       "    <tr>\n",
       "      <th>71653</th>\n",
       "      <td>toyota</td>\n",
       "      <td>aygo</td>\n",
       "      <td>2019</td>\n",
       "      <td>17123</td>\n",
       "      <td>998</td>\n",
       "      <td>Gasoline</td>\n",
       "      <td>Warblino</td>\n",
       "      <td>Pomorskie</td>\n",
       "      <td>900</td>\n",
       "    </tr>\n",
       "    <tr>\n",
       "      <th>26367</th>\n",
       "      <td>bmw</td>\n",
       "      <td>seria-3</td>\n",
       "      <td>2004</td>\n",
       "      <td>260000</td>\n",
       "      <td>1995</td>\n",
       "      <td>Diesel</td>\n",
       "      <td>Iława</td>\n",
       "      <td>Warmińsko-mazurskie</td>\n",
       "      <td>900</td>\n",
       "    </tr>\n",
       "    <tr>\n",
       "      <th>38890</th>\n",
       "      <td>volkswagen</td>\n",
       "      <td>golf-plus</td>\n",
       "      <td>2007</td>\n",
       "      <td>300567</td>\n",
       "      <td>1598</td>\n",
       "      <td>Gasoline</td>\n",
       "      <td>Lubachowy</td>\n",
       "      <td>Świętokrzyskie</td>\n",
       "      <td>500</td>\n",
       "    </tr>\n",
       "  </tbody>\n",
       "</table>\n",
       "<p>111166 rows × 9 columns</p>\n",
       "</div>"
      ],
      "text/plain": [
       "                mark      model  year  mileage  vol_engine      fuel  \\\n",
       "61836  mercedes-benz    s-klasa  2017      400        5980  Gasoline   \n",
       "61646  mercedes-benz    s-klasa  2019    12000        6233  Gasoline   \n",
       "61810  mercedes-benz    s-klasa  2018       21        5980  Gasoline   \n",
       "55530  mercedes-benz     amg-gt  2019    28500        3982  Gasoline   \n",
       "55562  mercedes-benz     amg-gt  2020    16000        3982  Gasoline   \n",
       "...              ...        ...   ...      ...         ...       ...   \n",
       "39776     volkswagen     passat  1998   220000        1781  Gasoline   \n",
       "36305     volkswagen       golf  1999   190321        1390  Gasoline   \n",
       "71653         toyota       aygo  2019    17123         998  Gasoline   \n",
       "26367            bmw    seria-3  2004   260000        1995    Diesel   \n",
       "38890     volkswagen  golf-plus  2007   300567        1598  Gasoline   \n",
       "\n",
       "                  city             province    price  \n",
       "61836            Janki          Mazowieckie  2399900  \n",
       "61646           Poznań        Wielkopolskie  1966770  \n",
       "61810         Warszawa          Mazowieckie  1550000  \n",
       "55530           Poznań        Wielkopolskie  1368341  \n",
       "55562  Pruszcz Gdański            Pomorskie  1100000  \n",
       "...                ...                  ...      ...  \n",
       "39776           Pniewy        Wielkopolskie     1250  \n",
       "36305  Tarnowskie Góry              Śląskie     1000  \n",
       "71653         Warblino            Pomorskie      900  \n",
       "26367            Iława  Warmińsko-mazurskie      900  \n",
       "38890        Lubachowy       Świętokrzyskie      500  \n",
       "\n",
       "[111166 rows x 9 columns]"
      ]
     },
     "execution_count": 103,
     "metadata": {},
     "output_type": "execute_result"
    }
   ],
   "source": [
    "df.sort_values(by = 'price',ascending= False) # price göre sıralama yapıyor"
   ]
  },
  {
   "cell_type": "code",
   "execution_count": 91,
   "id": "9da5e45c-c3bb-4cd8-9a62-534f5e808ac3",
   "metadata": {},
   "outputs": [
    {
     "name": "stdout",
     "output_type": "stream",
     "text": [
      "<class 'pandas.core.frame.DataFrame'>\n",
      "RangeIndex: 117927 entries, 0 to 117926\n",
      "Data columns (total 11 columns):\n",
      " #   Column           Non-Null Count   Dtype \n",
      "---  ------           --------------   ----- \n",
      " 0   Unnamed: 0       117927 non-null  int64 \n",
      " 1   mark             117927 non-null  object\n",
      " 2   model            117927 non-null  object\n",
      " 3   generation_name  87842 non-null   object\n",
      " 4   year             117927 non-null  int64 \n",
      " 5   mileage          117927 non-null  int64 \n",
      " 6   vol_engine       117927 non-null  int64 \n",
      " 7   fuel             117927 non-null  object\n",
      " 8   city             117927 non-null  object\n",
      " 9   province         117927 non-null  object\n",
      " 10  price            117927 non-null  int64 \n",
      "dtypes: int64(5), object(6)\n",
      "memory usage: 9.9+ MB\n"
     ]
    }
   ],
   "source": [
    "df.info()"
   ]
  },
  {
   "cell_type": "code",
   "execution_count": 16,
   "id": "f830bb6d-78e2-4947-8376-50813580d052",
   "metadata": {},
   "outputs": [
    {
     "data": {
      "text/html": [
       "<div>\n",
       "<style scoped>\n",
       "    .dataframe tbody tr th:only-of-type {\n",
       "        vertical-align: middle;\n",
       "    }\n",
       "\n",
       "    .dataframe tbody tr th {\n",
       "        vertical-align: top;\n",
       "    }\n",
       "\n",
       "    .dataframe thead th {\n",
       "        text-align: right;\n",
       "    }\n",
       "</style>\n",
       "<table border=\"1\" class=\"dataframe\">\n",
       "  <thead>\n",
       "    <tr style=\"text-align: right;\">\n",
       "      <th></th>\n",
       "      <th>year</th>\n",
       "      <th>mileage</th>\n",
       "      <th>vol_engine</th>\n",
       "      <th>price</th>\n",
       "    </tr>\n",
       "  </thead>\n",
       "  <tbody>\n",
       "    <tr>\n",
       "      <th>year</th>\n",
       "      <td>1.000000</td>\n",
       "      <td>-0.724111</td>\n",
       "      <td>-0.157331</td>\n",
       "      <td>0.591387</td>\n",
       "    </tr>\n",
       "    <tr>\n",
       "      <th>mileage</th>\n",
       "      <td>-0.724111</td>\n",
       "      <td>1.000000</td>\n",
       "      <td>0.202139</td>\n",
       "      <td>-0.537943</td>\n",
       "    </tr>\n",
       "    <tr>\n",
       "      <th>vol_engine</th>\n",
       "      <td>-0.157331</td>\n",
       "      <td>0.202139</td>\n",
       "      <td>1.000000</td>\n",
       "      <td>0.308294</td>\n",
       "    </tr>\n",
       "    <tr>\n",
       "      <th>price</th>\n",
       "      <td>0.591387</td>\n",
       "      <td>-0.537943</td>\n",
       "      <td>0.308294</td>\n",
       "      <td>1.000000</td>\n",
       "    </tr>\n",
       "  </tbody>\n",
       "</table>\n",
       "</div>"
      ],
      "text/plain": [
       "                year   mileage  vol_engine     price\n",
       "year        1.000000 -0.724111   -0.157331  0.591387\n",
       "mileage    -0.724111  1.000000    0.202139 -0.537943\n",
       "vol_engine -0.157331  0.202139    1.000000  0.308294\n",
       "price       0.591387 -0.537943    0.308294  1.000000"
      ]
     },
     "execution_count": 16,
     "metadata": {},
     "output_type": "execute_result"
    }
   ],
   "source": [
    "numeric_cols = df.select_dtypes(include=['int64','float'])\n",
    "corelation_matrix = numeric_cols.corr()\n",
    "corelation_matrix"
   ]
  },
  {
   "cell_type": "code",
   "execution_count": 17,
   "id": "d2806fa1-b73b-4c17-a5c3-40a259aaf516",
   "metadata": {},
   "outputs": [
    {
     "data": {
      "text/plain": [
       "Text(0.5, 1.0, 'Corelation Matrix')"
      ]
     },
     "execution_count": 17,
     "metadata": {},
     "output_type": "execute_result"
    },
    {
     "data": {
      "image/png": "[encoded data removed]",
      "text/plain": [
       "<Figure size 640x480 with 2 Axes>"
      ]
     },
     "metadata": {},
     "output_type": "display_data"
    }
   ],
   "source": [
    "sns.heatmap(corelation_matrix, annot = True,linewidths=0.5)\n",
    "plt.title('Corelation Matrix')\n"
   ]
  },
  {
   "cell_type": "code",
   "execution_count": 19,
   "id": "6afa36a8-43a7-4e41-a5d1-5220a943ab6b",
   "metadata": {},
   "outputs": [
    {
     "data": {
      "text/plain": [
       "Text(0, 0.5, 'Sum sales')"
      ]
     },
     "execution_count": 19,
     "metadata": {},
     "output_type": "execute_result"
    },
    {
     "data": {
      "image/png": "[encoded data removed]",
      "text/plain": [
       "<Figure size 640x480 with 1 Axes>"
      ]
     },
     "metadata": {},
     "output_type": "display_data"
    }
   ],
   "source": [
    "df['year'].plot(kind= 'hist',bins = 25)\n",
    "plt.title('Car Sales Years')\n",
    "plt.xlabel('Year')\n",
    "plt.ylabel('Sum sales')"
   ]
  },
  {
   "cell_type": "code",
   "execution_count": 149,
   "id": "7248ce68-a163-4d19-9ea3-fef3ec70baf6",
   "metadata": {},
   "outputs": [
    {
     "data": {
      "text/plain": [
       "Text(0, 0.5, 'price')"
      ]
     },
     "execution_count": 149,
     "metadata": {},
     "output_type": "execute_result"
    },
    {
     "data": {
      "image/png": "[encoded data removed]",
      "text/plain": [
       "<Figure size 640x480 with 1 Axes>"
      ]
     },
     "metadata": {},
     "output_type": "display_data"
    }
   ],
   "source": [
    "# Scatter Plot\n",
    "plt.scatter(df['mileage'],df['price'],c='r',alpha=0.5)\n",
    "plt.title('Scatter plot of millage- price')\n",
    "plt.xlabel('millage')\n",
    "plt.ylabel('price')"
   ]
  },
  {
   "cell_type": "code",
   "execution_count": 20,
   "id": "bf737546-79ef-4d42-8c4c-f2016572ebb3",
   "metadata": {},
   "outputs": [
    {
     "data": {
      "text/plain": [
       "Text(0.5, 1.0, 'Mean price by mark bar plot')"
      ]
     },
     "execution_count": 20,
     "metadata": {},
     "output_type": "execute_result"
    },
    {
     "data": {
      "image/png": "[encoded data removed]",
      "text/plain": [
       "<Figure size 640x480 with 1 Axes>"
      ]
     },
     "metadata": {},
     "output_type": "display_data"
    }
   ],
   "source": [
    "# Average price mean by ALL mark\n",
    "mean_price_by_mark = df.groupby('mark')['price'].mean().sort_values()\n",
    "mean_price_by_mark.plot(kind = 'bar',color = 'green')\n",
    "plt.xlabel('mark')\n",
    "plt.ylabel('mean price')\n",
    "plt.title('Mean price by mark bar plot')\n"
   ]
  },
  {
   "cell_type": "code",
   "execution_count": 154,
   "id": "89a86f02-0804-41ac-a9f5-746f51c57e2c",
   "metadata": {},
   "outputs": [
    {
     "data": {
      "text/plain": [
       "Text(0.5, 1.0, 'Mean price by mark bar plot')"
      ]
     },
     "execution_count": 154,
     "metadata": {},
     "output_type": "execute_result"
    },
    {
     "data": {
      "image/png": "[encoded data removed]",
      "text/plain": [
       "<Figure size 640x480 with 1 Axes>"
      ]
     },
     "metadata": {},
     "output_type": "display_data"
    }
   ],
   "source": [
    "# Average price mean by top five mark\n",
    "mean_price_by_mark = df.groupby('mark')['price'].mean().sort_values().head(5)\n",
    "mean_price_by_mark.plot(kind = 'bar',color = 'red')\n",
    "plt.xlabel('mark')\n",
    "plt.ylabel('mean price')\n",
    "plt.title('Mean price by mark bar plot')"
   ]
  },
  {
   "cell_type": "code",
   "execution_count": 21,
   "id": "bc06b2e6-a29c-484a-b11b-ef62a19dc214",
   "metadata": {},
   "outputs": [
    {
     "data": {
      "text/plain": [
       "Text(0, 0.5, 'Frequency')"
      ]
     },
     "execution_count": 21,
     "metadata": {},
     "output_type": "execute_result"
    },
    {
     "data": {
      "image/png": "[encoded data removed]",
      "text/plain": [
       "<Figure size 640x480 with 1 Axes>"
      ]
     },
     "metadata": {},
     "output_type": "display_data"
    }
   ],
   "source": [
    "\n",
    "# Top 10 Car Models Sales \n",
    "top_10_models_sell= df['model'].value_counts().head(10) # en çok satan araba modelleri\n",
    "top_10_models_sell.plot(kind = 'bar')\n",
    "plt.title('Top 10 Car Models')\n",
    "plt.xlabel('Car Model')\n",
    "plt.ylabel('Frequency')"
   ]
  },
  {
   "cell_type": "code",
   "execution_count": 22,
   "id": "25e7710c-2848-4446-b457-514c4fa613b6",
   "metadata": {},
   "outputs": [
    {
     "data": {
      "text/plain": [
       "Text(0.5, 1.0, 'Scatter plot of Vol engine - price')"
      ]
     },
     "execution_count": 22,
     "metadata": {},
     "output_type": "execute_result"
    },
    {
     "data": {
      "image/png": "[encoded data removed]",
      "text/plain": [
       "<Figure size 640x480 with 1 Axes>"
      ]
     },
     "metadata": {},
     "output_type": "display_data"
    }
   ],
   "source": [
    "# Scatter plot of Vol engine - price\n",
    "plt.scatter(df['vol_engine'],df['price'],alpha=0.5)\n",
    "plt.xlabel('Vol engine')\n",
    "plt.ylabel('Price')\n",
    "plt.title('Scatter plot of Vol engine - price')"
   ]
  },
  {
   "cell_type": "code",
   "execution_count": 23,
   "id": "be0a9a01-3ced-4bd9-bc49-cf81576230fb",
   "metadata": {},
   "outputs": [
    {
     "data": {
      "text/plain": [
       "Text(0.5, 0, 'Mileage')"
      ]
     },
     "execution_count": 23,
     "metadata": {},
     "output_type": "execute_result"
    },
    {
     "data": {
      "image/png": "[encoded data removed]",
      "text/plain": [
       "<Figure size 640x480 with 1 Axes>"
      ]
     },
     "metadata": {},
     "output_type": "display_data"
    }
   ],
   "source": [
    " # Distribution of mileage cars\n",
    "df[df['mileage']<50000]['mileage'].plot.hist(bins = 20,color = 'purple')\n",
    "plt.title('Distribution of mileage cars')\n",
    "plt.xlabel('Mileage')"
   ]
  },
  {
   "cell_type": "code",
   "execution_count": 24,
   "id": "0fe00def-9f15-460f-b1d1-217284145b6b",
   "metadata": {},
   "outputs": [
    {
     "data": {
      "text/plain": [
       "Text(0, 0.5, 'Count car')"
      ]
     },
     "execution_count": 24,
     "metadata": {},
     "output_type": "execute_result"
    },
    {
     "data": {
      "image/png": "[encoded data removed]",
      "text/plain": [
       "<Figure size 640x480 with 1 Axes>"
      ]
     },
     "metadata": {},
     "output_type": "display_data"
    }
   ],
   "source": [
    "# Count of car in each city\n",
    "city_counts = df['city'].value_counts().sort_values(ascending=False).head(10) \n",
    "city_counts.plot(kind = 'bar')\n",
    "plt.title('Count of car in top 10 city')\n",
    "plt.xlabel('City')\n",
    "plt.ylabel('Count car')"
   ]
  },
  {
   "cell_type": "code",
   "execution_count": 25,
   "id": "48f565de-41cc-42e0-ba1b-131269e055d1",
   "metadata": {},
   "outputs": [
    {
     "data": {
      "text/plain": [
       "fuel\n",
       "LPG          27307.425921\n",
       "CNG          30796.476190\n",
       "Gasoline     65157.168699\n",
       "Diesel       70620.197740\n",
       "Hybrid      159289.210872\n",
       "Electric    191076.428951\n",
       "Name: price, dtype: float64"
      ]
     },
     "execution_count": 25,
     "metadata": {},
     "output_type": "execute_result"
    }
   ],
   "source": [
    "fuel_avg_price = df.groupby('fuel')['price'].mean().sort_values()\n",
    "fuel_avg_price"
   ]
  },
  {
   "cell_type": "code",
   "execution_count": 26,
   "id": "af91f266-3829-407c-9eff-e697b095a6eb",
   "metadata": {},
   "outputs": [
    {
     "data": {
      "text/plain": [
       "year\n",
       "1945     68000.0\n",
       "1952      1000.0\n",
       "1964     24255.0\n",
       "1965     97000.0\n",
       "1966     66666.0\n",
       "1967     94500.0\n",
       "1968    123456.0\n",
       "1969     97967.0\n",
       "1970     21125.5\n",
       "1971     47000.0\n",
       "1972     20046.5\n",
       "1973     59000.0\n",
       "1974     99999.0\n",
       "1978    188896.0\n",
       "1981    200000.0\n",
       "1983    132000.0\n",
       "1985    215000.0\n",
       "1986    377500.0\n",
       "1987    354050.5\n",
       "1988    220000.0\n",
       "1989    171950.0\n",
       "1990    234000.0\n",
       "1991    181962.0\n",
       "1992    201000.0\n",
       "1993    190207.0\n",
       "1994    223000.0\n",
       "1995    234790.0\n",
       "1996    243500.0\n",
       "1997    243000.0\n",
       "1998    240750.0\n",
       "1999    246400.0\n",
       "2000    233430.0\n",
       "2001    238000.0\n",
       "2002    222000.0\n",
       "2003    225000.0\n",
       "2004    224000.0\n",
       "2005    217900.0\n",
       "2006    212000.0\n",
       "2007    210000.0\n",
       "2008    200000.0\n",
       "2009    189000.0\n",
       "2010    187000.0\n",
       "2011    183000.0\n",
       "2012    172000.0\n",
       "2013    160000.0\n",
       "2014    145538.0\n",
       "2015    129332.0\n",
       "2016    110492.5\n",
       "2017     97324.0\n",
       "2018     78000.0\n",
       "2019     43061.0\n",
       "2020     17310.0\n",
       "2021         5.0\n",
       "2022         5.0\n",
       "Name: mileage, dtype: float64"
      ]
     },
     "execution_count": 26,
     "metadata": {},
     "output_type": "execute_result"
    }
   ],
   "source": [
    "mileage_median_by_year = df.groupby('year')['mileage'].median()\n",
    "mileage_median_by_year"
   ]
  },
  {
   "cell_type": "code",
   "execution_count": 27,
   "id": "2949ca2e-a873-4a63-bc88-5f0296703077",
   "metadata": {},
   "outputs": [
    {
     "data": {
      "text/plain": [
       "mark        fuel    \n",
       "alfa-romeo  Diesel      2387\n",
       "            Gasoline    3195\n",
       "            LPG         3195\n",
       "audi        CNG         1984\n",
       "            Diesel      4200\n",
       "                        ... \n",
       "volvo       Diesel      2401\n",
       "            Electric       0\n",
       "            Gasoline    4415\n",
       "            Hybrid      2400\n",
       "            LPG         4414\n",
       "Name: vol_engine, Length: 114, dtype: int64"
      ]
     },
     "execution_count": 27,
     "metadata": {},
     "output_type": "execute_result"
    }
   ],
   "source": [
    "max_engine_size_by_mark_fuel = df.groupby(['mark','fuel'])['vol_engine'].max()\n",
    "max_engine_size_by_mark_fuel"
   ]
  },
  {
   "cell_type": "code",
   "execution_count": 28,
   "id": "14d848b5-e1b0-47b8-8f49-87b346219d7e",
   "metadata": {},
   "outputs": [
    {
     "data": {
      "text/plain": [
       "province\n",
       "(                               1\n",
       "Berlin                          2\n",
       "Dolnośląskie                 8370\n",
       "Kujawsko-pomorskie           5027\n",
       "Lubelskie                    4488\n",
       "Lubuskie                     2562\n",
       "Mazowieckie                 20871\n",
       "Małopolskie                  9242\n",
       "Moravian-Silesian Region       34\n",
       "Niedersachsen                   1\n",
       "Nordrhein-Westfalen             1\n",
       "Opolskie                     1963\n",
       "Podkarpackie                 3385\n",
       "Podlaskie                    2026\n",
       "Pomorskie                    7199\n",
       "Trenczyn                        1\n",
       "Warmińsko-mazurskie          2766\n",
       "Wiedeń                          1\n",
       "Wielkopolskie               13272\n",
       "Zachodniopomorskie           3737\n",
       "Łódzkie                      7384\n",
       "Śląskie                     15677\n",
       "Świętokrzyskie               3156\n",
       "Name: mark, dtype: int64"
      ]
     },
     "execution_count": 28,
     "metadata": {},
     "output_type": "execute_result"
    }
   ],
   "source": [
    "car_count_by_province = df.groupby('province')['mark'].count()\n",
    "car_count_by_province"
   ]
  },
  {
   "cell_type": "code",
   "execution_count": 29,
   "id": "48308612-7910-41b0-8f75-8c1a0084df1b",
   "metadata": {},
   "outputs": [
    {
     "data": {
      "text/plain": [
       "mark        model    \n",
       "alfa-romeo  147            6929.531250\n",
       "            159           17017.614583\n",
       "            giulia       184298.511494\n",
       "            giulietta     39697.661458\n",
       "            mito          20376.885417\n",
       "                             ...      \n",
       "volvo       v90          175483.628272\n",
       "            xc-40        173552.386076\n",
       "            xc-60        135156.664921\n",
       "            xc-70         49096.718750\n",
       "            xc-90        160643.361272\n",
       "Name: price, Length: 328, dtype: float64"
      ]
     },
     "execution_count": 29,
     "metadata": {},
     "output_type": "execute_result"
    }
   ],
   "source": [
    "avg_price_by_mark_model= df.groupby(['mark','model'])['price'].mean()\n",
    "avg_price_by_mark_model"
   ]
  },
  {
   "cell_type": "code",
   "execution_count": 30,
   "id": "01f66c1f-46c8-4077-97e9-87b9e042e86c",
   "metadata": {},
   "outputs": [
    {
     "data": {
      "text/plain": [
       "year\n",
       "1945       1\n",
       "1952       1\n",
       "1964       2\n",
       "1965       5\n",
       "1966       7\n",
       "1967       4\n",
       "1968       3\n",
       "1969       2\n",
       "1970       8\n",
       "1971       3\n",
       "1972       2\n",
       "1973       3\n",
       "1974       1\n",
       "1978       2\n",
       "1981       3\n",
       "1983       1\n",
       "1985       3\n",
       "1986       2\n",
       "1987       2\n",
       "1988       7\n",
       "1989      10\n",
       "1990      18\n",
       "1991      26\n",
       "1992      25\n",
       "1993      30\n",
       "1994      53\n",
       "1995      59\n",
       "1996      95\n",
       "1997     144\n",
       "1998     252\n",
       "1999     387\n",
       "2000     477\n",
       "2001     724\n",
       "2002    1130\n",
       "2003    1624\n",
       "2004    2447\n",
       "2005    3292\n",
       "2006    4390\n",
       "2007    5365\n",
       "2008    6152\n",
       "2009    6482\n",
       "2010    6151\n",
       "2011    6365\n",
       "2012    6042\n",
       "2013    5282\n",
       "2014    5603\n",
       "2015    5769\n",
       "2016    6662\n",
       "2017    8451\n",
       "2018    8198\n",
       "2019    4911\n",
       "2020    3317\n",
       "2021    9321\n",
       "2022    1850\n",
       "Name: mark, dtype: int64"
      ]
     },
     "execution_count": 30,
     "metadata": {},
     "output_type": "execute_result"
    }
   ],
   "source": [
    "car_count_by_year = df.groupby('year')['mark'].count()\n",
    "car_count_by_year"
   ]
  },
  {
   "cell_type": "code",
   "execution_count": 31,
   "id": "c9d3b775-fe13-4e3a-9329-454942eccf5c",
   "metadata": {},
   "outputs": [
    {
     "data": {
      "text/plain": [
       "mark        province          \n",
       "alfa-romeo  Dolnośląskie          177537.688889\n",
       "            Kujawsko-pomorskie    130814.485714\n",
       "            Lubelskie             163404.125000\n",
       "            Lubuskie              118556.833333\n",
       "            Mazowieckie           138224.543307\n",
       "                                      ...      \n",
       "volvo       Wielkopolskie         126621.385321\n",
       "            Zachodniopomorskie    153020.114504\n",
       "            Łódzkie               167987.152174\n",
       "            Śląskie               130180.455224\n",
       "            Świętokrzyskie        201238.611111\n",
       "Name: mileage, Length: 378, dtype: float64"
      ]
     },
     "execution_count": 31,
     "metadata": {},
     "output_type": "execute_result"
    }
   ],
   "source": [
    "avg_milage_by_mark_province = df.groupby(['mark','province'])['mileage'].mean()\n",
    "avg_milage_by_mark_province"
   ]
  },
  {
   "cell_type": "code",
   "execution_count": 32,
   "id": "adbf8228-6086-4e8f-9086-a75b92ec74e9",
   "metadata": {},
   "outputs": [
    {
     "data": {
      "text/plain": [
       "province        fuel    \n",
       "(               Diesel      62900\n",
       "Berlin          Diesel      16000\n",
       "                Gasoline    26999\n",
       "Dolnośląskie    Diesel       1290\n",
       "                Electric    41500\n",
       "                            ...  \n",
       "Świętokrzyskie  Diesel       2300\n",
       "                Electric    36898\n",
       "                Gasoline      500\n",
       "                Hybrid      33900\n",
       "                LPG          2500\n",
       "Name: price, Length: 102, dtype: int64"
      ]
     },
     "execution_count": 32,
     "metadata": {},
     "output_type": "execute_result"
    }
   ],
   "source": [
    "min_price_by_province_fuel = df.groupby(['province','fuel'])['price'].min()\n",
    "min_price_by_province_fuel"
   ]
  },
  {
   "cell_type": "code",
   "execution_count": 33,
   "id": "cfa19716-f9b5-41f0-b680-4ec9ef37022a",
   "metadata": {},
   "outputs": [
    {
     "data": {
      "text/plain": [
       "Text(0.5, 1.0, 'Average Price by car mark')"
      ]
     },
     "execution_count": 33,
     "metadata": {},
     "output_type": "execute_result"
    },
    {
     "data": {
      "image/png": "[encoded data removed]",
      "text/plain": [
       "<Figure size 640x480 with 1 Axes>"
      ]
     },
     "metadata": {},
     "output_type": "display_data"
    }
   ],
   "source": [
    "df.groupby('mark')['price'].mean().sort_values(ascending=False).plot(kind = 'bar')\n",
    "plt.xlabel('Car Mark')\n",
    "plt.ylabel('Average Price')\n",
    "plt.title('Average Price by car mark')"
   ]
  },
  {
   "cell_type": "code",
   "execution_count": 34,
   "id": "2a2ba734-cd00-47db-b9eb-6ee7923d4d14",
   "metadata": {},
   "outputs": [
    {
     "data": {
      "text/plain": [
       "Text(0.5, 1.0, 'Maximum Engine Size by fuel')"
      ]
     },
     "execution_count": 34,
     "metadata": {},
     "output_type": "execute_result"
    },
    {
     "data": {
      "image/png": "[encoded data removed]",
      "text/plain": [
       "<Figure size 640x480 with 1 Axes>"
      ]
     },
     "metadata": {},
     "output_type": "display_data"
    }
   ],
   "source": [
    "df.groupby('fuel')['vol_engine'].max().plot(kind = 'pie',autopct = '%1.1f%%') #yakıt türüne göre max motor boyutu\n",
    "plt.title('Maximum Engine Size by fuel')"
   ]
  },
  {
   "cell_type": "markdown",
   "id": "5287f4e2-596e-4384-aed0-2f1c996f49c1",
   "metadata": {},
   "source": [
    "## ML into"
   ]
  },
  {
   "cell_type": "code",
   "execution_count": 35,
   "id": "80b3721d-51f9-4eac-843f-bff721477391",
   "metadata": {},
   "outputs": [
    {
     "data": {
      "text/html": [
       "<div>\n",
       "<style scoped>\n",
       "    .dataframe tbody tr th:only-of-type {\n",
       "        vertical-align: middle;\n",
       "    }\n",
       "\n",
       "    .dataframe tbody tr th {\n",
       "        vertical-align: top;\n",
       "    }\n",
       "\n",
       "    .dataframe thead th {\n",
       "        text-align: right;\n",
       "    }\n",
       "</style>\n",
       "<table border=\"1\" class=\"dataframe\">\n",
       "  <thead>\n",
       "    <tr style=\"text-align: right;\">\n",
       "      <th></th>\n",
       "      <th>mark</th>\n",
       "      <th>model</th>\n",
       "      <th>year</th>\n",
       "      <th>mileage</th>\n",
       "      <th>vol_engine</th>\n",
       "      <th>fuel</th>\n",
       "      <th>city</th>\n",
       "      <th>province</th>\n",
       "    </tr>\n",
       "  </thead>\n",
       "  <tbody>\n",
       "    <tr>\n",
       "      <th>0</th>\n",
       "      <td>opel</td>\n",
       "      <td>combo</td>\n",
       "      <td>2015</td>\n",
       "      <td>139568</td>\n",
       "      <td>1248</td>\n",
       "      <td>Diesel</td>\n",
       "      <td>Janki</td>\n",
       "      <td>Mazowieckie</td>\n",
       "    </tr>\n",
       "    <tr>\n",
       "      <th>1</th>\n",
       "      <td>opel</td>\n",
       "      <td>combo</td>\n",
       "      <td>2018</td>\n",
       "      <td>31991</td>\n",
       "      <td>1499</td>\n",
       "      <td>Diesel</td>\n",
       "      <td>Katowice</td>\n",
       "      <td>Śląskie</td>\n",
       "    </tr>\n",
       "    <tr>\n",
       "      <th>2</th>\n",
       "      <td>opel</td>\n",
       "      <td>combo</td>\n",
       "      <td>2015</td>\n",
       "      <td>278437</td>\n",
       "      <td>1598</td>\n",
       "      <td>Diesel</td>\n",
       "      <td>Brzeg</td>\n",
       "      <td>Opolskie</td>\n",
       "    </tr>\n",
       "    <tr>\n",
       "      <th>3</th>\n",
       "      <td>opel</td>\n",
       "      <td>combo</td>\n",
       "      <td>2016</td>\n",
       "      <td>47600</td>\n",
       "      <td>1248</td>\n",
       "      <td>Diesel</td>\n",
       "      <td>Korfantów</td>\n",
       "      <td>Opolskie</td>\n",
       "    </tr>\n",
       "    <tr>\n",
       "      <th>4</th>\n",
       "      <td>opel</td>\n",
       "      <td>combo</td>\n",
       "      <td>2014</td>\n",
       "      <td>103000</td>\n",
       "      <td>1400</td>\n",
       "      <td>CNG</td>\n",
       "      <td>Tarnowskie Góry</td>\n",
       "      <td>Śląskie</td>\n",
       "    </tr>\n",
       "    <tr>\n",
       "      <th>...</th>\n",
       "      <td>...</td>\n",
       "      <td>...</td>\n",
       "      <td>...</td>\n",
       "      <td>...</td>\n",
       "      <td>...</td>\n",
       "      <td>...</td>\n",
       "      <td>...</td>\n",
       "      <td>...</td>\n",
       "    </tr>\n",
       "    <tr>\n",
       "      <th>117250</th>\n",
       "      <td>volvo</td>\n",
       "      <td>xc-90</td>\n",
       "      <td>2017</td>\n",
       "      <td>51000</td>\n",
       "      <td>1969</td>\n",
       "      <td>Diesel</td>\n",
       "      <td>Chechło Pierwsze</td>\n",
       "      <td>Łódzkie</td>\n",
       "    </tr>\n",
       "    <tr>\n",
       "      <th>117251</th>\n",
       "      <td>volvo</td>\n",
       "      <td>xc-90</td>\n",
       "      <td>2016</td>\n",
       "      <td>83500</td>\n",
       "      <td>1969</td>\n",
       "      <td>Gasoline</td>\n",
       "      <td>Pruszcz Gdański</td>\n",
       "      <td>Pomorskie</td>\n",
       "    </tr>\n",
       "    <tr>\n",
       "      <th>117252</th>\n",
       "      <td>volvo</td>\n",
       "      <td>xc-90</td>\n",
       "      <td>2017</td>\n",
       "      <td>174000</td>\n",
       "      <td>1969</td>\n",
       "      <td>Diesel</td>\n",
       "      <td>Kalisz</td>\n",
       "      <td>Wielkopolskie</td>\n",
       "    </tr>\n",
       "    <tr>\n",
       "      <th>117253</th>\n",
       "      <td>volvo</td>\n",
       "      <td>xc-90</td>\n",
       "      <td>2016</td>\n",
       "      <td>189020</td>\n",
       "      <td>1969</td>\n",
       "      <td>Gasoline</td>\n",
       "      <td>Sionna</td>\n",
       "      <td>Mazowieckie</td>\n",
       "    </tr>\n",
       "    <tr>\n",
       "      <th>117254</th>\n",
       "      <td>volvo</td>\n",
       "      <td>xc-90</td>\n",
       "      <td>2016</td>\n",
       "      <td>95000</td>\n",
       "      <td>1969</td>\n",
       "      <td>Gasoline</td>\n",
       "      <td>Warszawa</td>\n",
       "      <td>Mazowieckie</td>\n",
       "    </tr>\n",
       "  </tbody>\n",
       "</table>\n",
       "<p>111166 rows × 8 columns</p>\n",
       "</div>"
      ],
      "text/plain": [
       "         mark  model  year  mileage  vol_engine      fuel              city  \\\n",
       "0        opel  combo  2015   139568        1248    Diesel             Janki   \n",
       "1        opel  combo  2018    31991        1499    Diesel          Katowice   \n",
       "2        opel  combo  2015   278437        1598    Diesel             Brzeg   \n",
       "3        opel  combo  2016    47600        1248    Diesel         Korfantów   \n",
       "4        opel  combo  2014   103000        1400       CNG   Tarnowskie Góry   \n",
       "...       ...    ...   ...      ...         ...       ...               ...   \n",
       "117250  volvo  xc-90  2017    51000        1969    Diesel  Chechło Pierwsze   \n",
       "117251  volvo  xc-90  2016    83500        1969  Gasoline   Pruszcz Gdański   \n",
       "117252  volvo  xc-90  2017   174000        1969    Diesel            Kalisz   \n",
       "117253  volvo  xc-90  2016   189020        1969  Gasoline            Sionna   \n",
       "117254  volvo  xc-90  2016    95000        1969  Gasoline          Warszawa   \n",
       "\n",
       "             province  \n",
       "0         Mazowieckie  \n",
       "1             Śląskie  \n",
       "2            Opolskie  \n",
       "3            Opolskie  \n",
       "4             Śląskie  \n",
       "...               ...  \n",
       "117250        Łódzkie  \n",
       "117251      Pomorskie  \n",
       "117252  Wielkopolskie  \n",
       "117253    Mazowieckie  \n",
       "117254    Mazowieckie  \n",
       "\n",
       "[111166 rows x 8 columns]"
      ]
     },
     "execution_count": 35,
     "metadata": {},
     "output_type": "execute_result"
    }
   ],
   "source": [
    "X = df.iloc[:,:-1]\n",
    "X"
   ]
  },
  {
   "cell_type": "code",
   "execution_count": 36,
   "id": "eaaf8fbf-94ae-492a-8334-322eaf317f47",
   "metadata": {},
   "outputs": [
    {
     "data": {
      "text/plain": [
       "0          35900\n",
       "1          78501\n",
       "2          27000\n",
       "3          30800\n",
       "4          35900\n",
       "           ...  \n",
       "117250    229900\n",
       "117251    135000\n",
       "117252    154500\n",
       "117253    130000\n",
       "117254    126000\n",
       "Name: price, Length: 111166, dtype: int64"
      ]
     },
     "execution_count": 36,
     "metadata": {},
     "output_type": "execute_result"
    }
   ],
   "source": [
    "y = df.iloc[:,-1]\n",
    "y"
   ]
  },
  {
   "cell_type": "markdown",
   "id": "c6e03504-6031-4e77-964e-de4f3ed1f467",
   "metadata": {},
   "source": [
    "### feature engineer part 1"
   ]
  },
  {
   "cell_type": "code",
   "execution_count": 37,
   "id": "2f86c624-8d40-4ddc-a11a-c11ffeba7827",
   "metadata": {},
   "outputs": [],
   "source": [
    " \n",
    "X.drop(['model','city','province'],axis= 1 ,inplace=True)"
   ]
  },
  {
   "cell_type": "code",
   "execution_count": 38,
   "id": "fc965dfa-e9d3-4f5e-bd03-61b04e841913",
   "metadata": {},
   "outputs": [
    {
     "data": {
      "text/html": [
       "<div>\n",
       "<style scoped>\n",
       "    .dataframe tbody tr th:only-of-type {\n",
       "        vertical-align: middle;\n",
       "    }\n",
       "\n",
       "    .dataframe tbody tr th {\n",
       "        vertical-align: top;\n",
       "    }\n",
       "\n",
       "    .dataframe thead th {\n",
       "        text-align: right;\n",
       "    }\n",
       "</style>\n",
       "<table border=\"1\" class=\"dataframe\">\n",
       "  <thead>\n",
       "    <tr style=\"text-align: right;\">\n",
       "      <th></th>\n",
       "      <th>mark</th>\n",
       "      <th>year</th>\n",
       "      <th>mileage</th>\n",
       "      <th>vol_engine</th>\n",
       "      <th>fuel</th>\n",
       "    </tr>\n",
       "  </thead>\n",
       "  <tbody>\n",
       "    <tr>\n",
       "      <th>0</th>\n",
       "      <td>opel</td>\n",
       "      <td>2015</td>\n",
       "      <td>139568</td>\n",
       "      <td>1248</td>\n",
       "      <td>Diesel</td>\n",
       "    </tr>\n",
       "    <tr>\n",
       "      <th>1</th>\n",
       "      <td>opel</td>\n",
       "      <td>2018</td>\n",
       "      <td>31991</td>\n",
       "      <td>1499</td>\n",
       "      <td>Diesel</td>\n",
       "    </tr>\n",
       "    <tr>\n",
       "      <th>2</th>\n",
       "      <td>opel</td>\n",
       "      <td>2015</td>\n",
       "      <td>278437</td>\n",
       "      <td>1598</td>\n",
       "      <td>Diesel</td>\n",
       "    </tr>\n",
       "    <tr>\n",
       "      <th>3</th>\n",
       "      <td>opel</td>\n",
       "      <td>2016</td>\n",
       "      <td>47600</td>\n",
       "      <td>1248</td>\n",
       "      <td>Diesel</td>\n",
       "    </tr>\n",
       "    <tr>\n",
       "      <th>4</th>\n",
       "      <td>opel</td>\n",
       "      <td>2014</td>\n",
       "      <td>103000</td>\n",
       "      <td>1400</td>\n",
       "      <td>CNG</td>\n",
       "    </tr>\n",
       "    <tr>\n",
       "      <th>...</th>\n",
       "      <td>...</td>\n",
       "      <td>...</td>\n",
       "      <td>...</td>\n",
       "      <td>...</td>\n",
       "      <td>...</td>\n",
       "    </tr>\n",
       "    <tr>\n",
       "      <th>117250</th>\n",
       "      <td>volvo</td>\n",
       "      <td>2017</td>\n",
       "      <td>51000</td>\n",
       "      <td>1969</td>\n",
       "      <td>Diesel</td>\n",
       "    </tr>\n",
       "    <tr>\n",
       "      <th>117251</th>\n",
       "      <td>volvo</td>\n",
       "      <td>2016</td>\n",
       "      <td>83500</td>\n",
       "      <td>1969</td>\n",
       "      <td>Gasoline</td>\n",
       "    </tr>\n",
       "    <tr>\n",
       "      <th>117252</th>\n",
       "      <td>volvo</td>\n",
       "      <td>2017</td>\n",
       "      <td>174000</td>\n",
       "      <td>1969</td>\n",
       "      <td>Diesel</td>\n",
       "    </tr>\n",
       "    <tr>\n",
       "      <th>117253</th>\n",
       "      <td>volvo</td>\n",
       "      <td>2016</td>\n",
       "      <td>189020</td>\n",
       "      <td>1969</td>\n",
       "      <td>Gasoline</td>\n",
       "    </tr>\n",
       "    <tr>\n",
       "      <th>117254</th>\n",
       "      <td>volvo</td>\n",
       "      <td>2016</td>\n",
       "      <td>95000</td>\n",
       "      <td>1969</td>\n",
       "      <td>Gasoline</td>\n",
       "    </tr>\n",
       "  </tbody>\n",
       "</table>\n",
       "<p>111166 rows × 5 columns</p>\n",
       "</div>"
      ],
      "text/plain": [
       "         mark  year  mileage  vol_engine      fuel\n",
       "0        opel  2015   139568        1248    Diesel\n",
       "1        opel  2018    31991        1499    Diesel\n",
       "2        opel  2015   278437        1598    Diesel\n",
       "3        opel  2016    47600        1248    Diesel\n",
       "4        opel  2014   103000        1400       CNG\n",
       "...       ...   ...      ...         ...       ...\n",
       "117250  volvo  2017    51000        1969    Diesel\n",
       "117251  volvo  2016    83500        1969  Gasoline\n",
       "117252  volvo  2017   174000        1969    Diesel\n",
       "117253  volvo  2016   189020        1969  Gasoline\n",
       "117254  volvo  2016    95000        1969  Gasoline\n",
       "\n",
       "[111166 rows x 5 columns]"
      ]
     },
     "execution_count": 38,
     "metadata": {},
     "output_type": "execute_result"
    }
   ],
   "source": [
    "X"
   ]
  },
  {
   "cell_type": "code",
   "execution_count": 39,
   "id": "a8fe4cb7-709f-46ca-a5d9-1c0b307ac69d",
   "metadata": {},
   "outputs": [],
   "source": [
    "# Labelencoder\n",
    "from sklearn.preprocessing import LabelEncoder\n",
    "\n",
    "lr = LabelEncoder()\n",
    "X['mark'] = lr.fit_transform(X['mark'])\n",
    "X['fuel'] = lr.fit_transform(X['fuel'])"
   ]
  },
  {
   "cell_type": "code",
   "execution_count": 40,
   "id": "9f781783-f909-4ae3-8bbe-43cb3bac0926",
   "metadata": {},
   "outputs": [
    {
     "data": {
      "text/html": [
       "<div>\n",
       "<style scoped>\n",
       "    .dataframe tbody tr th:only-of-type {\n",
       "        vertical-align: middle;\n",
       "    }\n",
       "\n",
       "    .dataframe tbody tr th {\n",
       "        vertical-align: top;\n",
       "    }\n",
       "\n",
       "    .dataframe thead th {\n",
       "        text-align: right;\n",
       "    }\n",
       "</style>\n",
       "<table border=\"1\" class=\"dataframe\">\n",
       "  <thead>\n",
       "    <tr style=\"text-align: right;\">\n",
       "      <th></th>\n",
       "      <th>mark</th>\n",
       "      <th>year</th>\n",
       "      <th>mileage</th>\n",
       "      <th>vol_engine</th>\n",
       "      <th>fuel</th>\n",
       "    </tr>\n",
       "  </thead>\n",
       "  <tbody>\n",
       "    <tr>\n",
       "      <th>0</th>\n",
       "      <td>15</td>\n",
       "      <td>2015</td>\n",
       "      <td>139568</td>\n",
       "      <td>1248</td>\n",
       "      <td>1</td>\n",
       "    </tr>\n",
       "    <tr>\n",
       "      <th>1</th>\n",
       "      <td>15</td>\n",
       "      <td>2018</td>\n",
       "      <td>31991</td>\n",
       "      <td>1499</td>\n",
       "      <td>1</td>\n",
       "    </tr>\n",
       "    <tr>\n",
       "      <th>2</th>\n",
       "      <td>15</td>\n",
       "      <td>2015</td>\n",
       "      <td>278437</td>\n",
       "      <td>1598</td>\n",
       "      <td>1</td>\n",
       "    </tr>\n",
       "    <tr>\n",
       "      <th>3</th>\n",
       "      <td>15</td>\n",
       "      <td>2016</td>\n",
       "      <td>47600</td>\n",
       "      <td>1248</td>\n",
       "      <td>1</td>\n",
       "    </tr>\n",
       "    <tr>\n",
       "      <th>4</th>\n",
       "      <td>15</td>\n",
       "      <td>2014</td>\n",
       "      <td>103000</td>\n",
       "      <td>1400</td>\n",
       "      <td>0</td>\n",
       "    </tr>\n",
       "    <tr>\n",
       "      <th>...</th>\n",
       "      <td>...</td>\n",
       "      <td>...</td>\n",
       "      <td>...</td>\n",
       "      <td>...</td>\n",
       "      <td>...</td>\n",
       "    </tr>\n",
       "    <tr>\n",
       "      <th>117250</th>\n",
       "      <td>22</td>\n",
       "      <td>2017</td>\n",
       "      <td>51000</td>\n",
       "      <td>1969</td>\n",
       "      <td>1</td>\n",
       "    </tr>\n",
       "    <tr>\n",
       "      <th>117251</th>\n",
       "      <td>22</td>\n",
       "      <td>2016</td>\n",
       "      <td>83500</td>\n",
       "      <td>1969</td>\n",
       "      <td>3</td>\n",
       "    </tr>\n",
       "    <tr>\n",
       "      <th>117252</th>\n",
       "      <td>22</td>\n",
       "      <td>2017</td>\n",
       "      <td>174000</td>\n",
       "      <td>1969</td>\n",
       "      <td>1</td>\n",
       "    </tr>\n",
       "    <tr>\n",
       "      <th>117253</th>\n",
       "      <td>22</td>\n",
       "      <td>2016</td>\n",
       "      <td>189020</td>\n",
       "      <td>1969</td>\n",
       "      <td>3</td>\n",
       "    </tr>\n",
       "    <tr>\n",
       "      <th>117254</th>\n",
       "      <td>22</td>\n",
       "      <td>2016</td>\n",
       "      <td>95000</td>\n",
       "      <td>1969</td>\n",
       "      <td>3</td>\n",
       "    </tr>\n",
       "  </tbody>\n",
       "</table>\n",
       "<p>111166 rows × 5 columns</p>\n",
       "</div>"
      ],
      "text/plain": [
       "        mark  year  mileage  vol_engine  fuel\n",
       "0         15  2015   139568        1248     1\n",
       "1         15  2018    31991        1499     1\n",
       "2         15  2015   278437        1598     1\n",
       "3         15  2016    47600        1248     1\n",
       "4         15  2014   103000        1400     0\n",
       "...      ...   ...      ...         ...   ...\n",
       "117250    22  2017    51000        1969     1\n",
       "117251    22  2016    83500        1969     3\n",
       "117252    22  2017   174000        1969     1\n",
       "117253    22  2016   189020        1969     3\n",
       "117254    22  2016    95000        1969     3\n",
       "\n",
       "[111166 rows x 5 columns]"
      ]
     },
     "execution_count": 40,
     "metadata": {},
     "output_type": "execute_result"
    }
   ],
   "source": [
    "X"
   ]
  },
  {
   "cell_type": "code",
   "execution_count": 41,
   "id": "468d3549-efb3-4dbb-b909-7d32312f9de2",
   "metadata": {},
   "outputs": [],
   "source": [
    "from sklearn.model_selection import train_test_split\n",
    "X_train,X_test, y_train,y_test = train_test_split(X,y,test_size=0.2,random_state= 42)"
   ]
  },
  {
   "cell_type": "code",
   "execution_count": 42,
   "id": "5e32b640-bb87-42c0-a26f-7e867a4448ad",
   "metadata": {},
   "outputs": [],
   "source": [
    "from sklearn.preprocessing import StandardScaler\n",
    "scaler = StandardScaler()\n",
    "scaled_x_train = scaler.fit_transform(X_train)\n",
    "scaled_x_test = scaler.fit_transform(X_test)"
   ]
  },
  {
   "cell_type": "code",
   "execution_count": 43,
   "id": "03d8e72a-f6a1-41da-b215-ba9a24f8a89d",
   "metadata": {},
   "outputs": [],
   "source": [
    "# import regression metric \n",
    "from sklearn.metrics import accuracy_score,mean_squared_error,mean_absolute_error,mean_absolute_percentage_error\n",
    "\n",
    "def modelresult(predict):\n",
    "    print(f'Mean absolute error on model is {mean_absolute_error(y_test,predict)}')\n",
    "    print(f'Mean squared error on model is {mean_squared_error(y_test,predict)}')\n"
   ]
  },
  {
   "cell_type": "code",
   "execution_count": 45,
   "id": "f4b6a033-678f-4003-9699-cc616ec875c5",
   "metadata": {},
   "outputs": [],
   "source": [
    "from sklearn.linear_model import LinearRegression\n",
    "reg = LinearRegression().fit(scaled_x_train,y_train)\n",
    "predictlr = reg.predict(scaled_x_test)"
   ]
  },
  {
   "cell_type": "code",
   "execution_count": 46,
   "id": "23a4c8a1-7e9d-4fec-956c-29136685e5c5",
   "metadata": {},
   "outputs": [
    {
     "name": "stdout",
     "output_type": "stream",
     "text": [
      "Mean absolute error on model is 32404.00834870777\n",
      "Mean squared error on model is 3018617309.8705335\n"
     ]
    }
   ],
   "source": [
    "modelresult(predictlr)"
   ]
  },
  {
   "cell_type": "code",
   "execution_count": 47,
   "id": "1db17ad9-ac5b-4c4c-9d69-8ee2737f3929",
   "metadata": {},
   "outputs": [],
   "source": [
    "#hyper parameter tuning\n",
    "from sklearn.model_selection import GridSearchCV\n",
    "from sklearn.svm import SVR\n",
    "svrmodel = SVR()\n",
    "param_gridsvr ={'C':[0.001,0.01,0.1,0.5],\n",
    "                'kernel':['linear','rbf','poly'],\n",
    "               'gamma':['scale','auto'],\n",
    "               'degree':[2,3,4,5]}\n",
    "gridsvr = GridSearchCV(svrmodel,param_gridsvr)\n",
    "#gridsvr.fit(scaled_x_train,y_train)"
   ]
  },
  {
   "cell_type": "code",
   "execution_count": 48,
   "id": "d9ad6794-5a34-46e7-a20e-318f4cfac52d",
   "metadata": {},
   "outputs": [
    {
     "data": {
      "text/html": [
       "<style>#sk-container-id-1 {\n",
       "  /* Definition of color scheme common for light and dark mode */\n",
       "  --sklearn-color-text: black;\n",
       "  --sklearn-color-line: gray;\n",
       "  /* Definition of color scheme for unfitted estimators */\n",
       "  --sklearn-color-unfitted-level-0: #fff5e6;\n",
       "  --sklearn-color-unfitted-level-1: #f6e4d2;\n",
       "  --sklearn-color-unfitted-level-2: #ffe0b3;\n",
       "  --sklearn-color-unfitted-level-3: chocolate;\n",
       "  /* Definition of color scheme for fitted estimators */\n",
       "  --sklearn-color-fitted-level-0: #f0f8ff;\n",
       "  --sklearn-color-fitted-level-1: #d4ebff;\n",
       "  --sklearn-color-fitted-level-2: #b3dbfd;\n",
       "  --sklearn-color-fitted-level-3: cornflowerblue;\n",
       "\n",
       "  /* Specific color for light theme */\n",
       "  --sklearn-color-text-on-default-background: var(--sg-text-color, var(--theme-code-foreground, var(--jp-content-font-color1, black)));\n",
       "  --sklearn-color-background: var(--sg-background-color, var(--theme-background, var(--jp-layout-color0, white)));\n",
       "  --sklearn-color-border-box: var(--sg-text-color, var(--theme-code-foreground, var(--jp-content-font-color1, black)));\n",
       "  --sklearn-color-icon: #696969;\n",
       "\n",
       "  @media (prefers-color-scheme: dark) {\n",
       "    /* Redefinition of color scheme for dark theme */\n",
       "    --sklearn-color-text-on-default-background: var(--sg-text-color, var(--theme-code-foreground, var(--jp-content-font-color1, white)));\n",
       "    --sklearn-color-background: var(--sg-background-color, var(--theme-background, var(--jp-layout-color0, #111)));\n",
       "    --sklearn-color-border-box: var(--sg-text-color, var(--theme-code-foreground, var(--jp-content-font-color1, white)));\n",
       "    --sklearn-color-icon: #878787;\n",
       "  }\n",
       "}\n",
       "\n",
       "#sk-container-id-1 {\n",
       "  color: var(--sklearn-color-text);\n",
       "}\n",
       "\n",
       "#sk-container-id-1 pre {\n",
       "  padding: 0;\n",
       "}\n",
       "\n",
       "#sk-container-id-1 input.sk-hidden--visually {\n",
       "  border: 0;\n",
       "  clip: rect(1px 1px 1px 1px);\n",
       "  clip: rect(1px, 1px, 1px, 1px);\n",
       "  height: 1px;\n",
       "  margin: -1px;\n",
       "  overflow: hidden;\n",
       "  padding: 0;\n",
       "  position: absolute;\n",
       "  width: 1px;\n",
       "}\n",
       "\n",
       "#sk-container-id-1 div.sk-dashed-wrapped {\n",
       "  border: 1px dashed var(--sklearn-color-line);\n",
       "  margin: 0 0.4em 0.5em 0.4em;\n",
       "  box-sizing: border-box;\n",
       "  padding-bottom: 0.4em;\n",
       "  background-color: var(--sklearn-color-background);\n",
       "}\n",
       "\n",
       "#sk-container-id-1 div.sk-container {\n",
       "  /* jupyter's `normalize.less` sets `[hidden] { display: none; }`\n",
       "     but bootstrap.min.css set `[hidden] { display: none !important; }`\n",
       "     so we also need the `!important` here to be able to override the\n",
       "     default hidden behavior on the sphinx rendered scikit-learn.org.\n",
       "     See: https://github.com/scikit-learn/scikit-learn/issues/21755 */\n",
       "  display: inline-block !important;\n",
       "  position: relative;\n",
       "}\n",
       "\n",
       "#sk-container-id-1 div.sk-text-repr-fallback {\n",
       "  display: none;\n",
       "}\n",
       "\n",
       "div.sk-parallel-item,\n",
       "div.sk-serial,\n",
       "div.sk-item {\n",
       "  /* draw centered vertical line to link estimators */\n",
       "  background-image: linear-gradient(var(--sklearn-color-text-on-default-background), var(--sklearn-color-text-on-default-background));\n",
       "  background-size: 2px 100%;\n",
       "  background-repeat: no-repeat;\n",
       "  background-position: center center;\n",
       "}\n",
       "\n",
       "/* Parallel-specific style estimator block */\n",
       "\n",
       "#sk-container-id-1 div.sk-parallel-item::after {\n",
       "  content: \"\";\n",
       "  width: 100%;\n",
       "  border-bottom: 2px solid var(--sklearn-color-text-on-default-background);\n",
       "  flex-grow: 1;\n",
       "}\n",
       "\n",
       "#sk-container-id-1 div.sk-parallel {\n",
       "  display: flex;\n",
       "  align-items: stretch;\n",
       "  justify-content: center;\n",
       "  background-color: var(--sklearn-color-background);\n",
       "  position: relative;\n",
       "}\n",
       "\n",
       "#sk-container-id-1 div.sk-parallel-item {\n",
       "  display: flex;\n",
       "  flex-direction: column;\n",
       "}\n",
       "\n",
       "#sk-container-id-1 div.sk-parallel-item:first-child::after {\n",
       "  align-self: flex-end;\n",
       "  width: 50%;\n",
       "}\n",
       "\n",
       "#sk-container-id-1 div.sk-parallel-item:last-child::after {\n",
       "  align-self: flex-start;\n",
       "  width: 50%;\n",
       "}\n",
       "\n",
       "#sk-container-id-1 div.sk-parallel-item:only-child::after {\n",
       "  width: 0;\n",
       "}\n",
       "\n",
       "/* Serial-specific style estimator block */\n",
       "\n",
       "#sk-container-id-1 div.sk-serial {\n",
       "  display: flex;\n",
       "  flex-direction: column;\n",
       "  align-items: center;\n",
       "  background-color: var(--sklearn-color-background);\n",
       "  padding-right: 1em;\n",
       "  padding-left: 1em;\n",
       "}\n",
       "\n",
       "\n",
       "/* Toggleable style: style used for estimator/Pipeline/ColumnTransformer box that is\n",
       "clickable and can be expanded/collapsed.\n",
       "- Pipeline and ColumnTransformer use this feature and define the default style\n",
       "- Estimators will overwrite some part of the style using the `sk-estimator` class\n",
       "*/\n",
       "\n",
       "/* Pipeline and ColumnTransformer style (default) */\n",
       "\n",
       "#sk-container-id-1 div.sk-toggleable {\n",
       "  /* Default theme specific background. It is overwritten whether we have a\n",
       "  specific estimator or a Pipeline/ColumnTransformer */\n",
       "  background-color: var(--sklearn-color-background);\n",
       "}\n",
       "\n",
       "/* Toggleable label */\n",
       "#sk-container-id-1 label.sk-toggleable__label {\n",
       "  cursor: pointer;\n",
       "  display: block;\n",
       "  width: 100%;\n",
       "  margin-bottom: 0;\n",
       "  padding: 0.5em;\n",
       "  box-sizing: border-box;\n",
       "  text-align: center;\n",
       "}\n",
       "\n",
       "#sk-container-id-1 label.sk-toggleable__label-arrow:before {\n",
       "  /* Arrow on the left of the label */\n",
       "  content: \"▸\";\n",
       "  float: left;\n",
       "  margin-right: 0.25em;\n",
       "  color: var(--sklearn-color-icon);\n",
       "}\n",
       "\n",
       "#sk-container-id-1 label.sk-toggleable__label-arrow:hover:before {\n",
       "  color: var(--sklearn-color-text);\n",
       "}\n",
       "\n",
       "/* Toggleable content - dropdown */\n",
       "\n",
       "#sk-container-id-1 div.sk-toggleable__content {\n",
       "  max-height: 0;\n",
       "  max-width: 0;\n",
       "  overflow: hidden;\n",
       "  text-align: left;\n",
       "  /* unfitted */\n",
       "  background-color: var(--sklearn-color-unfitted-level-0);\n",
       "}\n",
       "\n",
       "#sk-container-id-1 div.sk-toggleable__content.fitted {\n",
       "  /* fitted */\n",
       "  background-color: var(--sklearn-color-fitted-level-0);\n",
       "}\n",
       "\n",
       "#sk-container-id-1 div.sk-toggleable__content pre {\n",
       "  margin: 0.2em;\n",
       "  border-radius: 0.25em;\n",
       "  color: var(--sklearn-color-text);\n",
       "  /* unfitted */\n",
       "  background-color: var(--sklearn-color-unfitted-level-0);\n",
       "}\n",
       "\n",
       "#sk-container-id-1 div.sk-toggleable__content.fitted pre {\n",
       "  /* unfitted */\n",
       "  background-color: var(--sklearn-color-fitted-level-0);\n",
       "}\n",
       "\n",
       "#sk-container-id-1 input.sk-toggleable__control:checked~div.sk-toggleable__content {\n",
       "  /* Expand drop-down */\n",
       "  max-height: 200px;\n",
       "  max-width: 100%;\n",
       "  overflow: auto;\n",
       "}\n",
       "\n",
       "#sk-container-id-1 input.sk-toggleable__control:checked~label.sk-toggleable__label-arrow:before {\n",
       "  content: \"▾\";\n",
       "}\n",
       "\n",
       "/* Pipeline/ColumnTransformer-specific style */\n",
       "\n",
       "#sk-container-id-1 div.sk-label input.sk-toggleable__control:checked~label.sk-toggleable__label {\n",
       "  color: var(--sklearn-color-text);\n",
       "  background-color: var(--sklearn-color-unfitted-level-2);\n",
       "}\n",
       "\n",
       "#sk-container-id-1 div.sk-label.fitted input.sk-toggleable__control:checked~label.sk-toggleable__label {\n",
       "  background-color: var(--sklearn-color-fitted-level-2);\n",
       "}\n",
       "\n",
       "/* Estimator-specific style */\n",
       "\n",
       "/* Colorize estimator box */\n",
       "#sk-container-id-1 div.sk-estimator input.sk-toggleable__control:checked~label.sk-toggleable__label {\n",
       "  /* unfitted */\n",
       "  background-color: var(--sklearn-color-unfitted-level-2);\n",
       "}\n",
       "\n",
       "#sk-container-id-1 div.sk-estimator.fitted input.sk-toggleable__control:checked~label.sk-toggleable__label {\n",
       "  /* fitted */\n",
       "  background-color: var(--sklearn-color-fitted-level-2);\n",
       "}\n",
       "\n",
       "#sk-container-id-1 div.sk-label label.sk-toggleable__label,\n",
       "#sk-container-id-1 div.sk-label label {\n",
       "  /* The background is the default theme color */\n",
       "  color: var(--sklearn-color-text-on-default-background);\n",
       "}\n",
       "\n",
       "/* On hover, darken the color of the background */\n",
       "#sk-container-id-1 div.sk-label:hover label.sk-toggleable__label {\n",
       "  color: var(--sklearn-color-text);\n",
       "  background-color: var(--sklearn-color-unfitted-level-2);\n",
       "}\n",
       "\n",
       "/* Label box, darken color on hover, fitted */\n",
       "#sk-container-id-1 div.sk-label.fitted:hover label.sk-toggleable__label.fitted {\n",
       "  color: var(--sklearn-color-text);\n",
       "  background-color: var(--sklearn-color-fitted-level-2);\n",
       "}\n",
       "\n",
       "/* Estimator label */\n",
       "\n",
       "#sk-container-id-1 div.sk-label label {\n",
       "  font-family: monospace;\n",
       "  font-weight: bold;\n",
       "  display: inline-block;\n",
       "  line-height: 1.2em;\n",
       "}\n",
       "\n",
       "#sk-container-id-1 div.sk-label-container {\n",
       "  text-align: center;\n",
       "}\n",
       "\n",
       "/* Estimator-specific */\n",
       "#sk-container-id-1 div.sk-estimator {\n",
       "  font-family: monospace;\n",
       "  border: 1px dotted var(--sklearn-color-border-box);\n",
       "  border-radius: 0.25em;\n",
       "  box-sizing: border-box;\n",
       "  margin-bottom: 0.5em;\n",
       "  /* unfitted */\n",
       "  background-color: var(--sklearn-color-unfitted-level-0);\n",
       "}\n",
       "\n",
       "#sk-container-id-1 div.sk-estimator.fitted {\n",
       "  /* fitted */\n",
       "  background-color: var(--sklearn-color-fitted-level-0);\n",
       "}\n",
       "\n",
       "/* on hover */\n",
       "#sk-container-id-1 div.sk-estimator:hover {\n",
       "  /* unfitted */\n",
       "  background-color: var(--sklearn-color-unfitted-level-2);\n",
       "}\n",
       "\n",
       "#sk-container-id-1 div.sk-estimator.fitted:hover {\n",
       "  /* fitted */\n",
       "  background-color: var(--sklearn-color-fitted-level-2);\n",
       "}\n",
       "\n",
       "/* Specification for estimator info (e.g. \"i\" and \"?\") */\n",
       "\n",
       "/* Common style for \"i\" and \"?\" */\n",
       "\n",
       ".sk-estimator-doc-link,\n",
       "a:link.sk-estimator-doc-link,\n",
       "a:visited.sk-estimator-doc-link {\n",
       "  float: right;\n",
       "  font-size: smaller;\n",
       "  line-height: 1em;\n",
       "  font-family: monospace;\n",
       "  background-color: var(--sklearn-color-background);\n",
       "  border-radius: 1em;\n",
       "  height: 1em;\n",
       "  width: 1em;\n",
       "  text-decoration: none !important;\n",
       "  margin-left: 1ex;\n",
       "  /* unfitted */\n",
       "  border: var(--sklearn-color-unfitted-level-1) 1pt solid;\n",
       "  color: var(--sklearn-color-unfitted-level-1);\n",
       "}\n",
       "\n",
       ".sk-estimator-doc-link.fitted,\n",
       "a:link.sk-estimator-doc-link.fitted,\n",
       "a:visited.sk-estimator-doc-link.fitted {\n",
       "  /* fitted */\n",
       "  border: var(--sklearn-color-fitted-level-1) 1pt solid;\n",
       "  color: var(--sklearn-color-fitted-level-1);\n",
       "}\n",
       "\n",
       "/* On hover */\n",
       "div.sk-estimator:hover .sk-estimator-doc-link:hover,\n",
       ".sk-estimator-doc-link:hover,\n",
       "div.sk-label-container:hover .sk-estimator-doc-link:hover,\n",
       ".sk-estimator-doc-link:hover {\n",
       "  /* unfitted */\n",
       "  background-color: var(--sklearn-color-unfitted-level-3);\n",
       "  color: var(--sklearn-color-background);\n",
       "  text-decoration: none;\n",
       "}\n",
       "\n",
       "div.sk-estimator.fitted:hover .sk-estimator-doc-link.fitted:hover,\n",
       ".sk-estimator-doc-link.fitted:hover,\n",
       "div.sk-label-container:hover .sk-estimator-doc-link.fitted:hover,\n",
       ".sk-estimator-doc-link.fitted:hover {\n",
       "  /* fitted */\n",
       "  background-color: var(--sklearn-color-fitted-level-3);\n",
       "  color: var(--sklearn-color-background);\n",
       "  text-decoration: none;\n",
       "}\n",
       "\n",
       "/* Span, style for the box shown on hovering the info icon */\n",
       ".sk-estimator-doc-link span {\n",
       "  display: none;\n",
       "  z-index: 9999;\n",
       "  position: relative;\n",
       "  font-weight: normal;\n",
       "  right: .2ex;\n",
       "  padding: .5ex;\n",
       "  margin: .5ex;\n",
       "  width: min-content;\n",
       "  min-width: 20ex;\n",
       "  max-width: 50ex;\n",
       "  color: var(--sklearn-color-text);\n",
       "  box-shadow: 2pt 2pt 4pt #999;\n",
       "  /* unfitted */\n",
       "  background: var(--sklearn-color-unfitted-level-0);\n",
       "  border: .5pt solid var(--sklearn-color-unfitted-level-3);\n",
       "}\n",
       "\n",
       ".sk-estimator-doc-link.fitted span {\n",
       "  /* fitted */\n",
       "  background: var(--sklearn-color-fitted-level-0);\n",
       "  border: var(--sklearn-color-fitted-level-3);\n",
       "}\n",
       "\n",
       ".sk-estimator-doc-link:hover span {\n",
       "  display: block;\n",
       "}\n",
       "\n",
       "/* \"?\"-specific style due to the `<a>` HTML tag */\n",
       "\n",
       "#sk-container-id-1 a.estimator_doc_link {\n",
       "  float: right;\n",
       "  font-size: 1rem;\n",
       "  line-height: 1em;\n",
       "  font-family: monospace;\n",
       "  background-color: var(--sklearn-color-background);\n",
       "  border-radius: 1rem;\n",
       "  height: 1rem;\n",
       "  width: 1rem;\n",
       "  text-decoration: none;\n",
       "  /* unfitted */\n",
       "  color: var(--sklearn-color-unfitted-level-1);\n",
       "  border: var(--sklearn-color-unfitted-level-1) 1pt solid;\n",
       "}\n",
       "\n",
       "#sk-container-id-1 a.estimator_doc_link.fitted {\n",
       "  /* fitted */\n",
       "  border: var(--sklearn-color-fitted-level-1) 1pt solid;\n",
       "  color: var(--sklearn-color-fitted-level-1);\n",
       "}\n",
       "\n",
       "/* On hover */\n",
       "#sk-container-id-1 a.estimator_doc_link:hover {\n",
       "  /* unfitted */\n",
       "  background-color: var(--sklearn-color-unfitted-level-3);\n",
       "  color: var(--sklearn-color-background);\n",
       "  text-decoration: none;\n",
       "}\n",
       "\n",
       "#sk-container-id-1 a.estimator_doc_link.fitted:hover {\n",
       "  /* fitted */\n",
       "  background-color: var(--sklearn-color-fitted-level-3);\n",
       "}\n",
       "</style><div id=\"sk-container-id-1\" class=\"sk-top-container\"><div class=\"sk-text-repr-fallback\"><pre>SVR()</pre><b>In a Jupyter environment, please rerun this cell to show the HTML representation or trust the notebook. <br />On GitHub, the HTML representation is unable to render, please try loading this page with nbviewer.org.</b></div><div class=\"sk-container\" hidden><div class=\"sk-item\"><div class=\"sk-estimator fitted sk-toggleable\"><input class=\"sk-toggleable__control sk-hidden--visually\" id=\"sk-estimator-id-1\" type=\"checkbox\" checked><label for=\"sk-estimator-id-1\" class=\"sk-toggleable__label fitted sk-toggleable__label-arrow fitted\">&nbsp;&nbsp;SVR<a class=\"sk-estimator-doc-link fitted\" rel=\"noreferrer\" target=\"_blank\" href=\"https://scikit-learn.org/1.4/modules/generated/sklearn.svm.SVR.html\">?<span>Documentation for SVR</span></a><span class=\"sk-estimator-doc-link fitted\">i<span>Fitted</span></span></label><div class=\"sk-toggleable__content fitted\"><pre>SVR()</pre></div> </div></div></div></div>"
      ],
      "text/plain": [
       "SVR()"
      ]
     },
     "execution_count": 48,
     "metadata": {},
     "output_type": "execute_result"
    }
   ],
   "source": [
    "svrmodel.fit(scaled_x_train,y_train)"
   ]
  },
  {
   "cell_type": "code",
   "execution_count": 49,
   "id": "6ce97041-1bb6-448f-9187-8e916ebc1b93",
   "metadata": {},
   "outputs": [],
   "source": [
    "predict_svr = svrmodel.predict(scaled_x_test)"
   ]
  },
  {
   "cell_type": "code",
   "execution_count": 50,
   "id": "b8e40dce-e2f9-40b1-a818-465930fb58d1",
   "metadata": {},
   "outputs": [
    {
     "name": "stdout",
     "output_type": "stream",
     "text": [
      "Mean absolute error on model is 41867.664067187034\n",
      "Mean squared error on model is 7182113434.717777\n"
     ]
    }
   ],
   "source": [
    "modelresult(predict_svr)"
   ]
  },
  {
   "cell_type": "code",
   "execution_count": 51,
   "id": "3c15483c-3dcb-459c-a0c0-a04639f5a25b",
   "metadata": {},
   "outputs": [],
   "source": [
    "from sklearn.ensemble import RandomForestRegressor\n",
    "rfmodel = RandomForestRegressor().fit(scaled_x_train,y_train)"
   ]
  },
  {
   "cell_type": "code",
   "execution_count": 52,
   "id": "8017c3ac-a041-4aa9-aec9-29458d5cba76",
   "metadata": {},
   "outputs": [
    {
     "name": "stdout",
     "output_type": "stream",
     "text": [
      "Mean absolute error on model is 14457.527310772246\n",
      "Mean squared error on model is 1016094839.3527966\n"
     ]
    }
   ],
   "source": [
    "predict_random = rfmodel.predict(scaled_x_test)\n",
    "modelresult(predict_random)"
   ]
  },
  {
   "cell_type": "code",
   "execution_count": null,
   "id": "97e851cf",
   "metadata": {},
   "outputs": [],
   "source": []
  }
 ],
 "metadata": {
  "kernelspec": {
   "display_name": "Python 3 (ipykernel)",
   "language": "python",
   "name": "python3"
  },
  "language_info": {
   "codemirror_mode": {
    "name": "ipython",
    "version": 3
   },
   "file_extension": ".py",
   "mimetype": "text/x-python",
   "name": "python",
   "nbconvert_exporter": "python",
   "pygments_lexer": "ipython3",
   "version": "3.11.7"
  }
 },
 "nbformat": 4,
 "nbformat_minor": 5
}
